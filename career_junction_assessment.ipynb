{
 "cells": [
  {
   "cell_type": "markdown",
   "metadata": {},
   "source": [
    "### Fields\n",
    "======\n",
    "1. id - The unique identifier for the profile\n",
    "2. careerjunction_za_primary_jobtitle - The most recent job title of the profile\n",
    "3. careerjunction_za_recent_jobtitles - The next job titles after the most recent one (max 2)\n",
    "4. careerjunction_za_historical_jobtitles - All other job titles after recent ones (from the 4th job title)\n",
    "5. careerjunction_za_future_jobtitles - Job titles the seeker would like to have as their next job (ambitions)\n",
    "6. careerjunction_za_employer_names - All employers worked for\n",
    "7. careerjunction_za_skills - All the skills\n",
    "8. careerjunction_za_courses - Titles for education/courses\n",
    " \n",
    "What we want is:-\n",
    "- Any insight into the data that can be extrapolated\n",
    "- If given a profile id, find similar profiles like that one. A combination of similar skills, courses and/or job titles.\n",
    "- If given a profile id, recommend what their next job title(s) could be\n",
    "\n",
    "\n",
    "As the amount of data captured increases, structure of data in the database become unstructured data.\n",
    "From the JSON file, there are over 1000 separate events listed within the file. Each event has different fields, and some of the fields are nested within other fields. \n",
    "This type of data is very hard to store in a regular SQL database.This unstructured data is often stored in a format called JavaScript Object Notation (JSON). \n",
    "JSON is a way to encode data structures like lists and dictionaries to strings that ensures that they are easily readable by machines. Even though JSON starts with the word Javascript, \n",
    "it's actually just a format, and can be read by any language.\n",
    "\n",
    "Python has great JSON support, with the json library. We can both convert lists and dictionaries to JSON, and convert strings to lists and dictionaries. \n",
    "JSON data looks much like a dictionary would in Python, with keys and values stored.\n",
    "\n",
    "In this task, we explored the JSON file using Jupyter notebook, and then import it into Python and work with it using Pandas.\n"
   ]
  },
  {
   "cell_type": "markdown",
   "metadata": {},
   "source": [
    "### The dataset\n",
    "\n",
    "The data contains information about career post and information about how to match candidate to a particular job post and then make further suggestion \n",
    "about likehood of the post. There are quite a few questions we could answer using the dataset, including:\n",
    "\n",
    "    [1.] What is the total number of the profile ID's' job present?\n",
    "    [2.] What are the most common skills, education, and courses people serach for?\n",
    "    [3.] What are the most common primary job title and recent job titles?\n",
    "    [4.] employer names, future job titles etc.\n",
    "    \n",
    "Since we don't know the structure of the JSON file upfront (as assumption), so we do some exploration to figure it out. This task used Jupyter Notebook for the exploration.\n"
   ]
  },
  {
   "cell_type": "markdown",
   "metadata": {},
   "source": [
    "## Exploring the JSON data\n",
    "\n",
    "The first thing we do is taking a look at the first few lines of the data set."
   ]
  },
  {
   "cell_type": "code",
   "execution_count": 131,
   "metadata": {},
   "outputs": [
    {
     "name": "stdout",
     "output_type": "stream",
     "text": [
      "[\n",
      "  {\n",
      "    \"id\": 1,\n",
      "    \"careerjunction_za_historical_jobtitles\": [\n",
      "      \"Marketer & Technical Liaison\",\n",
      "      \"Quality Assurance Manager Haccp Team Leader\",\n",
      "      \"New Product Developer Technologist\",\n",
      "      \"Food Technologist\",\n",
      "      \"Quality Controller\"\n",
      "    ],\n"
     ]
    }
   ],
   "source": [
    "%%bash\n",
    "# path to the data set\n",
    "head ../NumPy/datasets/data_science_extract.json"
   ]
  },
  {
   "cell_type": "markdown",
   "metadata": {},
   "source": [
    "We can tell that the JSON data is a list of dictionary, and it is well formatted. \n",
    "We can also see that:\n",
    "    \n",
    "#### \"profile id\", \"careerjunction_za_historical_jobtitles\",\"careerjunction_za_primary_jobtitle\",\n",
    "#### \"careerjunction_za_employer_names\", \"careerjunction_za_skills\", \"careerjunction_za_courses\", \n",
    "#### \"careerjunction_za_recent_jobtitles\", \"careerjunction_za_future_jobtitles\", \n",
    "\n",
    "are top level key, and they are indented three spaces. We get all of the top level keys by using the grep command to print any lines that have three leading spaces:"
   ]
  },
  {
   "cell_type": "markdown",
   "metadata": {},
   "source": [
    "We can see from the data set that the top level keys ae in the header. A list of lists appears to be associated with the data set, and this likely contains each record in the job profile dataset. \n",
    "Each inner list is a record, and the first record appears in the output from the grep command.\n",
    "\n",
    "We print out the full key structure of the JSON file by using grep to print out any lines with 2-6 leading spaces:"
   ]
  },
  {
   "cell_type": "markdown",
   "metadata": {},
   "source": [
    "This shows us the full key structure associated with data_science_extract.json, and tell us which parts of the JSON file are relevant for us."
   ]
  },
  {
   "cell_type": "markdown",
   "metadata": {},
   "source": [
    "### Extracting information on the columns\n",
    "\n",
    "Now that we know which key contains information on the columns, we read that information in. \n",
    "We assumed that the JSON file can't fit in memory and we can't just directly read it in using the json library. \n",
    "Instead, we iteratively read it in in a memory-efficient way."
   ]
  },
  {
   "cell_type": "code",
   "execution_count": 199,
   "metadata": {},
   "outputs": [
    {
     "name": "stdout",
     "output_type": "stream",
     "text": [
      "{u'careerjunction_za_historical_jobtitles': [u'Marketer & Technical Liaison', u'Quality Assurance Manager Haccp Team Leader', u'New Product Developer Technologist', u'Food Technologist', u'Quality Controller'], u'careerjunction_za_primary_jobtitle': u'Senior Food Technologist', u'careerjunction_za_skills': [u'Microbiology', u'microsoft powerpoint', u'microsoft office', u'microsoft excel', u'microsoft project management', u'Microsoft word', u'Outlook', u'Internet explorer', u'Marketing/Sales', u'Quality Control', u'Quality Assurance', u'Research and development', u'Problem solving'], u'careerjunction_za_courses': [u'Btech: Food Technology', u'National Diploma: Food Technology', u'Senior Certificate'], u'careerjunction_za_employer_names': [u'Cape Herb & Spice', u'Greys Marine', u'Heinz Foods', u'Swift Silliker', u'Zemcor'], u'careerjunction_za_recent_jobtitles': [u'Food Technologist', u'Product Specialist Microbiology'], u'careerjunction_za_future_jobtitles': [u'Food technologist', u'New product development', u'auditor', u'inspections'], u'id': 1}\n"
     ]
    }
   ],
   "source": [
    "import json #  json package iteratively parse the json file instead of reading it all in at once\n",
    "import sys\n",
    "import pandas as pd\n",
    "import numpy as np\n",
    "from pandas import DataFrame\n",
    "from pandas.io.json import json_normalize #package for flattening json in pandas df\n",
    "filename = \"../NumPy/datasets/data_science_extract.json\"\n",
    "\n",
    "\n",
    "def js_data(filename):\n",
    "   with open(filename, 'r') as f_in:\n",
    "    objects = json.load(f_in, encoding=\"utf8\")\n",
    "    columns = list(objects)\n",
    "    return columns\n",
    "\n",
    "#https://medium.com/@gis10kwo/converting-nested-json-data-to-csv-using-python-pandas-dc6eddc69175    \n",
    "if __name__ == \"__main__\":\n",
    "    columns = js_data(filename)\n",
    "    #print columns\n",
    "for row in columns:\n",
    "    selected_row.append(row)\n",
    "column_headers= len(selected_row)\n",
    "\n",
    "all_rows = []\n",
    "for i in selected_row:\n",
    "    all_rows.append(i)\n",
    "print all_rows[0]\n",
    "\n"
   ]
  },
  {
   "cell_type": "code",
   "execution_count": 158,
   "metadata": {},
   "outputs": [
    {
     "data": {
      "text/plain": [
       "[u'S']"
      ]
     },
     "execution_count": 158,
     "metadata": {},
     "output_type": "execute_result"
    }
   ],
   "source": []
  },
  {
   "cell_type": "code",
   "execution_count": 133,
   "metadata": {},
   "outputs": [
    {
     "data": {
      "text/plain": [
       "careerjunction_za_courses                 object\n",
       "careerjunction_za_employer_names          object\n",
       "careerjunction_za_future_jobtitles        object\n",
       "careerjunction_za_historical_jobtitles    object\n",
       "careerjunction_za_primary_jobtitle        object\n",
       "careerjunction_za_recent_jobtitles        object\n",
       "careerjunction_za_skills                  object\n",
       "id                                         int64\n",
       "dtype: object"
      ]
     },
     "execution_count": 133,
     "metadata": {},
     "output_type": "execute_result"
    }
   ],
   "source": [
    "msgs = pd.io.json.json_normalize(columns)\n",
    "msgs.dtypes"
   ]
  },
  {
   "cell_type": "code",
   "execution_count": 134,
   "metadata": {},
   "outputs": [
    {
     "data": {
      "text/plain": [
       "frozenset()"
      ]
     },
     "execution_count": 134,
     "metadata": {},
     "output_type": "execute_result"
    }
   ],
   "source": [
    "# Comparing list in the row of each column\n",
    "'''\n",
    "for i in selected_row[0]['careerjunction_za_recent_jobtitles']:\n",
    "    if i in selected_row[1]['careerjunction_za_recent_jobtitles']:\n",
    "        print True\n",
    "    else:\n",
    "        print False\n",
    "\n",
    "'''\n",
    "\n",
    "def compare_listcomp(row_x, row_y):\n",
    "    return [i for i, j in zip(row_x, row_y) if i == j]\n",
    "\n",
    "\n",
    "def compare_intersect(row_x, row_y):\n",
    "    return frozenset(row_x).intersection(row_y)\n",
    "\n",
    "\n",
    "compare_listcomp(selected_row[0]['careerjunction_za_recent_jobtitles'], selected_row[1]['careerjunction_za_recent_jobtitles'])\n",
    "compare_intersect(selected_row[0]['careerjunction_za_recent_jobtitles'], selected_row[1]['careerjunction_za_recent_jobtitles'])"
   ]
  },
  {
   "cell_type": "code",
   "execution_count": 166,
   "metadata": {},
   "outputs": [
    {
     "name": "stdout",
     "output_type": "stream",
     "text": [
      "[u'Food Technologist', u'Product Specialist Microbiology']\n",
      "[u'Senior Developer', u'Senior Developer']\n",
      "([], [u'Food Technologist', u'Product Specialist Microbiology'])\n"
     ]
    }
   ],
   "source": [
    "# Given profile ID\n",
    "\n",
    "def profile_id(selected_row):\n",
    "    column_headers = selected_row\n",
    "    return column_headers\n",
    "\n",
    "print (profile_id(selected_row[0]['careerjunction_za_recent_jobtitles']))\n",
    "print (profile_id(selected_row[1]['careerjunction_za_recent_jobtitles']))\n",
    "\n",
    "def look_up_similar(selected_row1, selected_row2):\n",
    "    get_similar = []\n",
    "    get_not_similar = []\n",
    "    cnt = 0\n",
    "    for i in selected_row1:\n",
    "        if i in selected_row2:\n",
    "            get_similar.append(i)\n",
    "            cnt = +1\n",
    "        else:\n",
    "            get_not_similar.append(i)\n",
    "            cnt = +1\n",
    "    return get_similar, get_not_similar\n",
    "\n",
    "print look_up_similar(selected_row[0]['careerjunction_za_recent_jobtitles'],selected_row[1]['careerjunction_za_recent_jobtitles'])\n",
    "\n"
   ]
  },
  {
   "cell_type": "code",
   "execution_count": 198,
   "metadata": {},
   "outputs": [
    {
     "ename": "SyntaxError",
     "evalue": "'return' outside function (<ipython-input-198-aa165885c360>, line 19)",
     "output_type": "error",
     "traceback": [
      "\u001b[0;36m  File \u001b[0;32m\"<ipython-input-198-aa165885c360>\"\u001b[0;36m, line \u001b[0;32m19\u001b[0m\n\u001b[0;31m    return rows\u001b[0m\n\u001b[0;31mSyntaxError\u001b[0m\u001b[0;31m:\u001b[0m 'return' outside function\n"
     ]
    }
   ],
   "source": [
    "#separate and group all dictionary to list\n",
    "import ijson\n",
    "\n",
    "\n",
    "\n",
    "with open(filename, 'r') as f:\n",
    "    objects = ijson.items(f)\n",
    "    for row in objects:\n",
    "        rows = []\n",
    "        for item in good_columns:\n",
    "            rows.append(row[column_names.index(item)])\n",
    "        return rows"
   ]
  },
  {
   "cell_type": "code",
   "execution_count": 229,
   "metadata": {},
   "outputs": [
    {
     "data": {
      "text/plain": [
       "{u'careerjunction_za_courses': [u'B.Econ', u'Grade 12/Matric'],\n",
       " u'careerjunction_za_primary_jobtitle': u'Senior Developer',\n",
       " u'careerjunction_za_recent_jobtitles': [u'Senior Developer',\n",
       "  u'Senior Developer'],\n",
       " u'careerjunction_za_skills': [u'MVC5',\n",
       "  u'JQuery',\n",
       "  u'C#',\n",
       "  u'BootStrap',\n",
       "  u'REST Services',\n",
       "  u'EntityFrameWork 6',\n",
       "  u'SQL Databse Development',\n",
       "  u'SSRS',\n",
       "  u'SSIS'],\n",
       " u'id': 2}"
      ]
     },
     "execution_count": 229,
     "metadata": {},
     "output_type": "execute_result"
    }
   ],
   "source": [
    "def new_source(dict_l):\n",
    "    good_columns = [\"id\",\"careerjunction_za_courses\", \"careerjunction_za_skills\", \n",
    "                \"careerjunction_za_recent_jobtitles\",\"careerjunction_za_primary_jobtitle\"]\n",
    "    n = {}\n",
    "    k = 'id'\n",
    "    for k,v in dict_l.items():\n",
    "        for i in good_columns:\n",
    "            if i==k:\n",
    "                n[k] = v\n",
    "    return n\n",
    "\n",
    "new_source(all_rows[1])"
   ]
  },
  {
   "cell_type": "code",
   "execution_count": 209,
   "metadata": {},
   "outputs": [
    {
     "name": "stdout",
     "output_type": "stream",
     "text": [
      "{'Date': '2013-05-01', 'Product': 'Toys', 'Price': '$10'}\n"
     ]
    }
   ],
   "source": []
  },
  {
   "cell_type": "code",
   "execution_count": 211,
   "metadata": {},
   "outputs": [
    {
     "ename": "TypeError",
     "evalue": "unsupported operand type(s) for &: 'list' and 'set'",
     "output_type": "error",
     "traceback": [
      "\u001b[0;31m----------------------------------------------------------\u001b[0m",
      "\u001b[0;31mTypeError\u001b[0m                Traceback (most recent call last)",
      "\u001b[0;32m<ipython-input-211-7d38b8007e21>\u001b[0m in \u001b[0;36m<module>\u001b[0;34m()\u001b[0m\n\u001b[0;32m----> 1\u001b[0;31m \u001b[0mn\u001b[0m \u001b[0;34m=\u001b[0m \u001b[0;34m{\u001b[0m\u001b[0mk\u001b[0m\u001b[0;34m:\u001b[0m \u001b[0md\u001b[0m\u001b[0;34m[\u001b[0m\u001b[0mk\u001b[0m\u001b[0;34m]\u001b[0m \u001b[0;32mfor\u001b[0m \u001b[0mk\u001b[0m \u001b[0;32min\u001b[0m \u001b[0md\u001b[0m\u001b[0;34m.\u001b[0m\u001b[0mkeys\u001b[0m\u001b[0;34m(\u001b[0m\u001b[0;34m)\u001b[0m \u001b[0;34m&\u001b[0m \u001b[0mset\u001b[0m\u001b[0;34m(\u001b[0m\u001b[0mlis\u001b[0m\u001b[0;34m)\u001b[0m\u001b[0;34m}\u001b[0m\u001b[0;34m\u001b[0m\u001b[0m\n\u001b[0m\u001b[1;32m      2\u001b[0m \u001b[0;32mprint\u001b[0m \u001b[0mn\u001b[0m\u001b[0;34m\u001b[0m\u001b[0m\n",
      "\u001b[0;31mTypeError\u001b[0m: unsupported operand type(s) for &: 'list' and 'set'"
     ]
    }
   ],
   "source": [
    "n = {k: d[k] for k in d.keys() & set(lis)}\n",
    "print n"
   ]
  },
  {
   "cell_type": "code",
   "execution_count": null,
   "metadata": {},
   "outputs": [],
   "source": []
  },
  {
   "cell_type": "code",
   "execution_count": null,
   "metadata": {},
   "outputs": [],
   "source": []
  },
  {
   "cell_type": "code",
   "execution_count": null,
   "metadata": {},
   "outputs": [],
   "source": []
  },
  {
   "cell_type": "code",
   "execution_count": null,
   "metadata": {},
   "outputs": [],
   "source": []
  }
 ],
 "metadata": {
  "kernelspec": {
   "display_name": "Python 3",
   "language": "python",
   "name": "python3"
  },
  "language_info": {
   "codemirror_mode": {
    "name": "ipython",
    "version": 2
   },
   "file_extension": ".py",
   "mimetype": "text/x-python",
   "name": "python",
   "nbconvert_exporter": "python",
   "pygments_lexer": "ipython2",
   "version": "2.7.14"
  }
 },
 "nbformat": 4,
 "nbformat_minor": 2
}
