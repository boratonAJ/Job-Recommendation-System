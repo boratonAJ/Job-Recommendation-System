{
 "cells": [
  {
   "cell_type": "code",
   "execution_count": 200,
   "metadata": {},
   "outputs": [
    {
     "data": {
      "text/html": [
       "<div>\n",
       "<style scoped>\n",
       "    .dataframe tbody tr th:only-of-type {\n",
       "        vertical-align: middle;\n",
       "    }\n",
       "\n",
       "    .dataframe tbody tr th {\n",
       "        vertical-align: top;\n",
       "    }\n",
       "\n",
       "    .dataframe thead th {\n",
       "        text-align: right;\n",
       "    }\n",
       "</style>\n",
       "<table border=\"1\" class=\"dataframe\">\n",
       "  <thead>\n",
       "    <tr style=\"text-align: right;\">\n",
       "      <th></th>\n",
       "      <th>careerjunction_za_courses</th>\n",
       "      <th>careerjunction_za_employer_names</th>\n",
       "      <th>careerjunction_za_future_jobtitles</th>\n",
       "      <th>careerjunction_za_historical_jobtitles</th>\n",
       "      <th>careerjunction_za_primary_jobtitle</th>\n",
       "      <th>careerjunction_za_recent_jobtitles</th>\n",
       "      <th>careerjunction_za_skills</th>\n",
       "      <th>id</th>\n",
       "    </tr>\n",
       "  </thead>\n",
       "  <tbody>\n",
       "    <tr>\n",
       "      <th>0</th>\n",
       "      <td>[u'Btech: Food Technology', u'National Diploma...</td>\n",
       "      <td>[u'Cape Herb &amp; Spice', u'Greys Marine', u'Hein...</td>\n",
       "      <td>[u'Food technologist', u'New product developme...</td>\n",
       "      <td>[u'Marketer &amp; Technical Liaison', u'Quality As...</td>\n",
       "      <td>Senior Food Technologist</td>\n",
       "      <td>[u'Food Technologist', u'Product Specialist Mi...</td>\n",
       "      <td>[u'Microbiology', u'microsoft powerpoint', u'm...</td>\n",
       "      <td>1</td>\n",
       "    </tr>\n",
       "    <tr>\n",
       "      <th>1</th>\n",
       "      <td>[u'B.Econ', u'Grade 12/Matric']</td>\n",
       "      <td>[u'Careerjunction', u'Gijima', u'Lateral Dynam...</td>\n",
       "      <td>[]</td>\n",
       "      <td>[u'Senior Developer', u'Senior Developer', u'S...</td>\n",
       "      <td>Senior Developer</td>\n",
       "      <td>[u'Senior Developer', u'Senior Developer']</td>\n",
       "      <td>[u'MVC5', u'JQuery', u'C#', u'BootStrap', u'RE...</td>\n",
       "      <td>2</td>\n",
       "    </tr>\n",
       "    <tr>\n",
       "      <th>2</th>\n",
       "      <td>[u'Bsc in Computer Systems', u'Higher National...</td>\n",
       "      <td>[u'Bruce Records Studio', u'Crystal MAP']</td>\n",
       "      <td>[u'Web Developer', u'Application Developer', u...</td>\n",
       "      <td>[]</td>\n",
       "      <td>Social Manager</td>\n",
       "      <td>[u'Junior Developer']</td>\n",
       "      <td>[u'C# Developer', u'MYSQL', u'PHP', u'javascri...</td>\n",
       "      <td>3</td>\n",
       "    </tr>\n",
       "  </tbody>\n",
       "</table>\n",
       "</div>"
      ],
      "text/plain": [
       "                           careerjunction_za_courses                   careerjunction_za_employer_names                 careerjunction_za_future_jobtitles             careerjunction_za_historical_jobtitles careerjunction_za_primary_jobtitle                 careerjunction_za_recent_jobtitles                           careerjunction_za_skills  id\n",
       "0  [u'Btech: Food Technology', u'National Diploma...  [u'Cape Herb & Spice', u'Greys Marine', u'Hein...  [u'Food technologist', u'New product developme...  [u'Marketer & Technical Liaison', u'Quality As...           Senior Food Technologist  [u'Food Technologist', u'Product Specialist Mi...  [u'Microbiology', u'microsoft powerpoint', u'm...   1\n",
       "1                    [u'B.Econ', u'Grade 12/Matric']  [u'Careerjunction', u'Gijima', u'Lateral Dynam...                                                 []  [u'Senior Developer', u'Senior Developer', u'S...                   Senior Developer         [u'Senior Developer', u'Senior Developer']  [u'MVC5', u'JQuery', u'C#', u'BootStrap', u'RE...   2\n",
       "2  [u'Bsc in Computer Systems', u'Higher National...          [u'Bruce Records Studio', u'Crystal MAP']  [u'Web Developer', u'Application Developer', u...                                                 []                     Social Manager                              [u'Junior Developer']  [u'C# Developer', u'MYSQL', u'PHP', u'javascri...   3"
      ]
     },
     "execution_count": 200,
     "metadata": {},
     "output_type": "execute_result"
    }
   ],
   "source": [
    "#Importing Libraries and Loading Our Data\n",
    "import json #  json package iteratively parse the json file instead of reading it all in at once\n",
    "encoding=\"utf8\"\n",
    "import sys,os\n",
    "import pandas as pd\n",
    "from pandas import DataFrame\n",
    "from pandas.io.json import json_normalize #package for flattening json in pandas df\n",
    "import numpy as np\n",
    "import scipy\n",
    "import math\n",
    "import random\n",
    "import matplotlib.pyplot as plt\n",
    "plt.style.use('fivethirtyeight')\n",
    "\n",
    "# set data path using a relative path\n",
    "filename = \"../NumPy/datasets/data_science_extract.json\"\n",
    "with open(filename, 'r') as f_in:\n",
    "    columns = json.load(f_in)\n",
    "    #convert nested json data to csv\n",
    "    #https://medium.com/@gis10kwo/converting-nested-json-data-to-csv-using-python-pandas-dc6eddc69175\n",
    "    json_normalize(columns).iloc[:, 0:].to_csv(os.path.abspath(\"../NumPy/datasets/data_science_extract.csv\"))\n",
    "    #del columns\n",
    "    \n",
    "# Load data \n",
    "    \n",
    "pd_to_csv = pd.read_csv(\"../NumPy/datasets/data_science_extract.csv\", index_col=0)\n",
    "pd_t = pd_to_csv.iloc[:, 0:]\n",
    "\n",
    "# Print the first three rows\n",
    "#pd_t.head(3)\n",
    "\n",
    "pd.set_option('display.height',1000)\n",
    "pd.set_option('display.max_columns', None)\n",
    "pd.set_option('display.max_rows', None)\n",
    "pd.set_option('display.width',1000)\n",
    "df = pd.DataFrame(pd_to_csv)\n",
    "df.head(3)"
   ]
  },
  {
   "cell_type": "markdown",
   "metadata": {},
   "source": [
    "###  Data Wrangling\n",
    "\n",
    "The data that was originally obtained was in the form of a JSON File. \n",
    "This was converted manually into a CSV file to arrive at an input that could be loaded into a Pandas DataFrame effortlessly.\n",
    "We will however attempt at learning more about our features and performing appropriate wrangling steps to arrive at a form that is more suitable for analysis.\n",
    "\n",
    "We start by understanding the dataset"
   ]
  },
  {
   "cell_type": "code",
   "execution_count": 179,
   "metadata": {},
   "outputs": [
    {
     "data": {
      "text/plain": [
       "Index([u'careerjunction_za_courses', u'careerjunction_za_employer_names', u'careerjunction_za_future_jobtitles', u'careerjunction_za_historical_jobtitles', u'careerjunction_za_primary_jobtitle', u'careerjunction_za_recent_jobtitles', u'careerjunction_za_skills', u'id'], dtype='object')"
      ]
     },
     "execution_count": 179,
     "metadata": {},
     "output_type": "execute_result"
    }
   ],
   "source": [
    "#Understanding the Dataset\n",
    "df.columns"
   ]
  },
  {
   "cell_type": "code",
   "execution_count": 268,
   "metadata": {},
   "outputs": [
    {
     "data": {
      "text/plain": [
       "(2000, 8)"
      ]
     },
     "execution_count": 268,
     "metadata": {},
     "output_type": "execute_result"
    }
   ],
   "source": [
    "# examine the shape\n",
    "df.shape"
   ]
  },
  {
   "cell_type": "code",
   "execution_count": 269,
   "metadata": {},
   "outputs": [
    {
     "data": {
      "text/plain": [
       "array([\"[u'Food technologist', u'New product development', u'auditor', u'inspections']\",\n",
       "       '[]',\n",
       "       \"[u'Web Developer', u'Application Developer', u'C# Developer']\",\n",
       "       ...,\n",
       "       \"[u'IT Manager', u'Project Manager', u'Manager', u'Business Analyst']\",\n",
       "       \"[u'SQL Developer', u'IT Manager', u'Business Analyst', u'IT Manager', u'Business Analyst']\",\n",
       "       \"[u'Software Architect', u'Enterprise Architect']\"], dtype=object)"
      ]
     },
     "execution_count": 269,
     "metadata": {},
     "output_type": "execute_result"
    }
   ],
   "source": [
    "# examine the series \n",
    "df.careerjunction_za_future_jobtitles.describe()\n",
    "df.careerjunction_za_future_jobtitles.value_counts() \n",
    "df.careerjunction_za_future_jobtitles.unique()"
   ]
  },
  {
   "cell_type": "markdown",
   "metadata": {},
   "source": [
    "There are a total of 2000 records with 8 features."
   ]
  },
  {
   "cell_type": "code",
   "execution_count": null,
   "metadata": {},
   "outputs": [],
   "source": []
  },
  {
   "cell_type": "markdown",
   "metadata": {},
   "source": [
    "We see that the primary jobtitle have no record for space. This indicates that we do not have information about the empty space. "
   ]
  },
  {
   "cell_type": "code",
   "execution_count": 247,
   "metadata": {},
   "outputs": [
    {
     "data": {
      "text/plain": [
       "count                   2000\n",
       "unique                  1197\n",
       "top       Software Developer\n",
       "freq                     121\n",
       "Name: careerjunction_za_primary_jobtitle, dtype: object"
      ]
     },
     "execution_count": 247,
     "metadata": {},
     "output_type": "execute_result"
    }
   ],
   "source": [
    "orders['careerjunction_za_primary_jobtitle'].describe()"
   ]
  },
  {
   "cell_type": "code",
   "execution_count": 230,
   "metadata": {},
   "outputs": [
    {
     "data": {
      "text/html": [
       "<div>\n",
       "<style scoped>\n",
       "    .dataframe tbody tr th:only-of-type {\n",
       "        vertical-align: middle;\n",
       "    }\n",
       "\n",
       "    .dataframe tbody tr th {\n",
       "        vertical-align: top;\n",
       "    }\n",
       "\n",
       "    .dataframe thead th {\n",
       "        text-align: right;\n",
       "    }\n",
       "</style>\n",
       "<table border=\"1\" class=\"dataframe\">\n",
       "  <thead>\n",
       "    <tr style=\"text-align: right;\">\n",
       "      <th></th>\n",
       "      <th>careerjunction_za_courses</th>\n",
       "      <th>careerjunction_za_employer_names</th>\n",
       "      <th>careerjunction_za_future_jobtitles</th>\n",
       "      <th>careerjunction_za_historical_jobtitles</th>\n",
       "      <th>careerjunction_za_primary_jobtitle</th>\n",
       "      <th>careerjunction_za_recent_jobtitles</th>\n",
       "      <th>careerjunction_za_skills</th>\n",
       "      <th>id</th>\n",
       "    </tr>\n",
       "  </thead>\n",
       "  <tbody>\n",
       "    <tr>\n",
       "      <th>1592</th>\n",
       "      <td>[u'Bsc Informatics', u'Computer Hardware Certi...</td>\n",
       "      <td>[u'Absolve', u'Alexander Forbes', u'Bidvest Ba...</td>\n",
       "      <td>[u'Developer', u'Systems Analyst/ Databases', ...</td>\n",
       "      <td>[u'Computer Technician']</td>\n",
       "      <td>.NET Analyst Developer</td>\n",
       "      <td>[u'Consultant', u'.NET Developer']</td>\n",
       "      <td>[u'Office Suite', u'Visual Studio 08 - 12', u'...</td>\n",
       "      <td>1593</td>\n",
       "    </tr>\n",
       "    <tr>\n",
       "      <th>1415</th>\n",
       "      <td>[u'B.TECH']</td>\n",
       "      <td>[u'Sebata', u'VANESBEN BUSINESS ASSOCIATES', u...</td>\n",
       "      <td>[u'C# Developer', u'.NET Developer']</td>\n",
       "      <td>[]</td>\n",
       "      <td>.NET Developer</td>\n",
       "      <td>[u'.NET Developer', u'.NET Developer']</td>\n",
       "      <td>[u'SQL', u'JAVA SCRIPT', u'CSS', u'HTML', u'WC...</td>\n",
       "      <td>1416</td>\n",
       "    </tr>\n",
       "    <tr>\n",
       "      <th>1019</th>\n",
       "      <td>[u'Information Systems', u'Bsc Information Sys...</td>\n",
       "      <td>[u'Chartered Systems Intergration', u'DVT', u'...</td>\n",
       "      <td>[u'Lead Software Developer', u'Software Develo...</td>\n",
       "      <td>[u'Intern']</td>\n",
       "      <td>.NET Developer</td>\n",
       "      <td>[u'Senior Software Developer', u'Software Deve...</td>\n",
       "      <td>[u'SAP Business one Developer \\u2022', u'Bizta...</td>\n",
       "      <td>1020</td>\n",
       "    </tr>\n",
       "  </tbody>\n",
       "</table>\n",
       "</div>"
      ],
      "text/plain": [
       "                              careerjunction_za_courses                   careerjunction_za_employer_names                 careerjunction_za_future_jobtitles careerjunction_za_historical_jobtitles careerjunction_za_primary_jobtitle                 careerjunction_za_recent_jobtitles                           careerjunction_za_skills    id\n",
       "1592  [u'Bsc Informatics', u'Computer Hardware Certi...  [u'Absolve', u'Alexander Forbes', u'Bidvest Ba...  [u'Developer', u'Systems Analyst/ Databases', ...               [u'Computer Technician']             .NET Analyst Developer                 [u'Consultant', u'.NET Developer']  [u'Office Suite', u'Visual Studio 08 - 12', u'...  1593\n",
       "1415                                        [u'B.TECH']  [u'Sebata', u'VANESBEN BUSINESS ASSOCIATES', u...               [u'C# Developer', u'.NET Developer']                                     []                     .NET Developer             [u'.NET Developer', u'.NET Developer']  [u'SQL', u'JAVA SCRIPT', u'CSS', u'HTML', u'WC...  1416\n",
       "1019  [u'Information Systems', u'Bsc Information Sys...  [u'Chartered Systems Intergration', u'DVT', u'...  [u'Lead Software Developer', u'Software Develo...                            [u'Intern']                     .NET Developer  [u'Senior Software Developer', u'Software Deve...  [u'SAP Business one Developer \\u2022', u'Bizta...  1020"
      ]
     },
     "execution_count": 230,
     "metadata": {},
     "output_type": "execute_result"
    }
   ],
   "source": [
    "#sorting dataframe column\n",
    "df_sort = df.sort_values(\"careerjunction_za_primary_jobtitle\")\n",
    "df_sort.head(3)"
   ]
  },
  {
   "cell_type": "code",
   "execution_count": 222,
   "metadata": {},
   "outputs": [
    {
     "data": {
      "text/html": [
       "<div>\n",
       "<style scoped>\n",
       "    .dataframe tbody tr th:only-of-type {\n",
       "        vertical-align: middle;\n",
       "    }\n",
       "\n",
       "    .dataframe tbody tr th {\n",
       "        vertical-align: top;\n",
       "    }\n",
       "\n",
       "    .dataframe thead th {\n",
       "        text-align: right;\n",
       "    }\n",
       "</style>\n",
       "<table border=\"1\" class=\"dataframe\">\n",
       "  <thead>\n",
       "    <tr style=\"text-align: right;\">\n",
       "      <th></th>\n",
       "      <th>careerjunction_za_employer_names</th>\n",
       "      <th>careerjunction_za_skills</th>\n",
       "      <th>careerjunction_za_primary_jobtitle</th>\n",
       "      <th>count</th>\n",
       "    </tr>\n",
       "  </thead>\n",
       "  <tbody>\n",
       "    <tr>\n",
       "      <th>0</th>\n",
       "      <td>[u\"Activ'Browser\", u'Credit Agricole', u'Infos...</td>\n",
       "      <td>[u'jQuery', u'Javascript', u'LAMP', u'Zend Fra...</td>\n",
       "      <td>Full Stack developer</td>\n",
       "      <td>1</td>\n",
       "    </tr>\n",
       "    <tr>\n",
       "      <th>1</th>\n",
       "      <td>[u\"Ag's Distributors\", u'Blue Security', u'Hol...</td>\n",
       "      <td>[u'.net developer', u'C# Developer', u'SQL And...</td>\n",
       "      <td>Senior Developer C#</td>\n",
       "      <td>1</td>\n",
       "    </tr>\n",
       "    <tr>\n",
       "      <th>2</th>\n",
       "      <td>[u\"Hassan Mansour Int'L Co\", u'Maegabyte Compu...</td>\n",
       "      <td>[u'Oracle', u'Dev. 2000', u'Visual Basic', u'M...</td>\n",
       "      <td>Analyst-Developer</td>\n",
       "      <td>1</td>\n",
       "    </tr>\n",
       "  </tbody>\n",
       "</table>\n",
       "</div>"
      ],
      "text/plain": [
       "                    careerjunction_za_employer_names                           careerjunction_za_skills careerjunction_za_primary_jobtitle  count\n",
       "0  [u\"Activ'Browser\", u'Credit Agricole', u'Infos...  [u'jQuery', u'Javascript', u'LAMP', u'Zend Fra...               Full Stack developer      1\n",
       "1  [u\"Ag's Distributors\", u'Blue Security', u'Hol...  [u'.net developer', u'C# Developer', u'SQL And...                Senior Developer C#      1\n",
       "2  [u\"Hassan Mansour Int'L Co\", u'Maegabyte Compu...  [u'Oracle', u'Dev. 2000', u'Visual Basic', u'M...                  Analyst-Developer      1"
      ]
     },
     "execution_count": 222,
     "metadata": {},
     "output_type": "execute_result"
    }
   ],
   "source": [
    "descriptions = df.groupby([\"careerjunction_za_employer_names\", \"careerjunction_za_skills\",\"careerjunction_za_primary_jobtitle\"])[\"id\"].count().reset_index(name=\"count\")\n",
    "descriptions.head(3)"
   ]
  },
  {
   "cell_type": "markdown",
   "metadata": {},
   "source": [
    "Using this new dataframe we can easily see the most popular jobtitle of each feature. For example the different kinds of the most primary job title data, \n",
    "the developer.\n"
   ]
  },
  {
   "cell_type": "code",
   "execution_count": 234,
   "metadata": {},
   "outputs": [
    {
     "data": {
      "text/html": [
       "<div>\n",
       "<style scoped>\n",
       "    .dataframe tbody tr th:only-of-type {\n",
       "        vertical-align: middle;\n",
       "    }\n",
       "\n",
       "    .dataframe tbody tr th {\n",
       "        vertical-align: top;\n",
       "    }\n",
       "\n",
       "    .dataframe thead th {\n",
       "        text-align: right;\n",
       "    }\n",
       "</style>\n",
       "<table border=\"1\" class=\"dataframe\">\n",
       "  <thead>\n",
       "    <tr style=\"text-align: right;\">\n",
       "      <th></th>\n",
       "      <th>careerjunction_za_employer_names</th>\n",
       "      <th>careerjunction_za_skills</th>\n",
       "      <th>careerjunction_za_primary_jobtitle</th>\n",
       "      <th>count</th>\n",
       "    </tr>\n",
       "  </thead>\n",
       "  <tbody>\n",
       "    <tr>\n",
       "      <th>224</th>\n",
       "      <td>[u'Above Average Tutoring', u'Alexander Forbes...</td>\n",
       "      <td>[u'C# .NET', u'TDD', u'Sql', u'HTML', u'DDD', ...</td>\n",
       "      <td>Software Developer</td>\n",
       "      <td>1</td>\n",
       "    </tr>\n",
       "    <tr>\n",
       "      <th>233</th>\n",
       "      <td>[u'Absolve', u'Alexander Forbes', u'Bidvest Ba...</td>\n",
       "      <td>[u'Office Suite', u'Visual Studio 08 - 12', u'...</td>\n",
       "      <td>.NET Analyst Developer</td>\n",
       "      <td>1</td>\n",
       "    </tr>\n",
       "    <tr>\n",
       "      <th>317</th>\n",
       "      <td>[u'Adapt IT', u'Alexander Forbes', u'Gijima AS...</td>\n",
       "      <td>[u'Visio', u'UML', u'SSRS', u'SSIS', u'DAX', u...</td>\n",
       "      <td>Microsoft Senior BI Developer</td>\n",
       "      <td>1</td>\n",
       "    </tr>\n",
       "    <tr>\n",
       "      <th>415</th>\n",
       "      <td>[u'Alexander Forbes Group']</td>\n",
       "      <td>[u'Microsoft Office', u'Emotional Intelligence...</td>\n",
       "      <td>Trainee Developer</td>\n",
       "      <td>1</td>\n",
       "    </tr>\n",
       "    <tr>\n",
       "      <th>419</th>\n",
       "      <td>[u'Alexander Forbes', u'CGM Industrial', u'Inf...</td>\n",
       "      <td>[u'Visual Basic', u'SQL', u'Microsoft Access',...</td>\n",
       "      <td>Software Developer</td>\n",
       "      <td>1</td>\n",
       "    </tr>\n",
       "    <tr>\n",
       "      <th>420</th>\n",
       "      <td>[u'Alexander Forbes', u'Sanlam']</td>\n",
       "      <td>[u'Cobol', u'Easytrieve Plus', u'IMS', u'JCL',...</td>\n",
       "      <td>Senior Analyst Cobol Developer</td>\n",
       "      <td>1</td>\n",
       "    </tr>\n",
       "    <tr>\n",
       "      <th>1626</th>\n",
       "      <td>[u'JMR Software', u'Onewaterloo Technologies',...</td>\n",
       "      <td>[u'Microsoft Office', u'Systems Analysis &amp; Des...</td>\n",
       "      <td>Business Analyst Developer General Management</td>\n",
       "      <td>1</td>\n",
       "    </tr>\n",
       "  </tbody>\n",
       "</table>\n",
       "</div>"
      ],
      "text/plain": [
       "                       careerjunction_za_employer_names                           careerjunction_za_skills             careerjunction_za_primary_jobtitle  count\n",
       "224   [u'Above Average Tutoring', u'Alexander Forbes...  [u'C# .NET', u'TDD', u'Sql', u'HTML', u'DDD', ...                             Software Developer      1\n",
       "233   [u'Absolve', u'Alexander Forbes', u'Bidvest Ba...  [u'Office Suite', u'Visual Studio 08 - 12', u'...                         .NET Analyst Developer      1\n",
       "317   [u'Adapt IT', u'Alexander Forbes', u'Gijima AS...  [u'Visio', u'UML', u'SSRS', u'SSIS', u'DAX', u...                  Microsoft Senior BI Developer      1\n",
       "415                         [u'Alexander Forbes Group']  [u'Microsoft Office', u'Emotional Intelligence...                              Trainee Developer      1\n",
       "419   [u'Alexander Forbes', u'CGM Industrial', u'Inf...  [u'Visual Basic', u'SQL', u'Microsoft Access',...                             Software Developer      1\n",
       "420                    [u'Alexander Forbes', u'Sanlam']  [u'Cobol', u'Easytrieve Plus', u'IMS', u'JCL',...                 Senior Analyst Cobol Developer      1\n",
       "1626  [u'JMR Software', u'Onewaterloo Technologies',...  [u'Microsoft Office', u'Systems Analysis & Des...  Business Analyst Developer General Management      1"
      ]
     },
     "execution_count": 234,
     "metadata": {},
     "output_type": "execute_result"
    }
   ],
   "source": [
    "descriptions = descriptions[descriptions['careerjunction_za_primary_jobtitle'].str.contains(\"Developer\") | descriptions['careerjunction_za_primary_jobtitle'].str.contains(\"Software Developer\")]\n",
    "descriptions.sort_values(['count'], ascending=False)[:10] "
   ]
  },
  {
   "cell_type": "markdown",
   "metadata": {},
   "source": [
    "One can see that software developer dominates all of the items but there's obviously way too much going on here. How about just the top ten most popular items."
   ]
  },
  {
   "cell_type": "code",
   "execution_count": 259,
   "metadata": {},
   "outputs": [
    {
     "data": {
      "text/plain": [
       "<matplotlib.axes._subplots.AxesSubplot at 0x1109cad50>"
      ]
     },
     "execution_count": 259,
     "metadata": {},
     "output_type": "execute_result"
    },
    {
     "data": {
      "image/png": "[encoded data removed]",
      "text/plain": [
       "<matplotlib.figure.Figure at 0x111993b90>"
      ]
     },
     "metadata": {},
     "output_type": "display_data"
    }
   ],
   "source": [
    "cnt = df['careerjunction_za_primary_jobtitle'].value_counts(ascending=False)[:10].plot(kind='bar') \n",
    "cnt"
   ]
  },
  {
   "cell_type": "markdown",
   "metadata": {},
   "source": [
    "This much easier to read and one can clearly see the software developer and developer are the most popular jobtitle included in the data.\n",
    "The following show the different varieties of developers job title. However, I limited it to the top ten which you can see here."
   ]
  },
  {
   "cell_type": "code",
   "execution_count": 271,
   "metadata": {},
   "outputs": [
    {
     "data": {
      "text/plain": [
       "Software Developer           121\n",
       "Developer                     68\n",
       "Web Developer                 49\n",
       "Senior Developer              28\n",
       "Java Developer                24\n",
       "Senior Software Developer     22\n",
       "Business Analyst              22\n",
       "Junior Software Developer     20\n",
       "Application Developer         20\n",
       "Junior Developer              17\n",
       "Name: careerjunction_za_primary_jobtitle, dtype: int64"
      ]
     },
     "execution_count": 271,
     "metadata": {},
     "output_type": "execute_result"
    }
   ],
   "source": [
    "df['careerjunction_za_primary_jobtitle'].value_counts(ascending=False)[:10]"
   ]
  },
  {
   "cell_type": "code",
   "execution_count": null,
   "metadata": {},
   "outputs": [],
   "source": []
  },
  {
   "cell_type": "code",
   "execution_count": null,
   "metadata": {},
   "outputs": [],
   "source": []
  },
  {
   "cell_type": "code",
   "execution_count": 236,
   "metadata": {},
   "outputs": [
    {
     "data": {
      "text/plain": [
       "pandas.core.series.Series"
      ]
     },
     "execution_count": 236,
     "metadata": {},
     "output_type": "execute_result"
    }
   ],
   "source": [
    "#df.crosstab(df.careerjunction_za_primary_jobtitle, df.careerjunction_za_recent_jobtitles)\n",
    "type(df.careerjunction_za_recent_jobtitles)"
   ]
  },
  {
   "cell_type": "code",
   "execution_count": 274,
   "metadata": {},
   "outputs": [],
   "source": [
    "#df.careerjunction_za_recent_jobtitles[6]\n",
    "\n",
    "#df.careerjunction_za_skills.iloc[:]\n"
   ]
  },
  {
   "cell_type": "code",
   "execution_count": 238,
   "metadata": {},
   "outputs": [
    {
     "data": {
      "text/plain": [
       "False"
      ]
     },
     "execution_count": 238,
     "metadata": {},
     "output_type": "execute_result"
    }
   ],
   "source": [
    "df.careerjunction_za_recent_jobtitles[568] == df.careerjunction_za_recent_jobtitles[6]"
   ]
  },
  {
   "cell_type": "code",
   "execution_count": 265,
   "metadata": {},
   "outputs": [
    {
     "data": {
      "text/plain": [
       "Software Developer           121\n",
       "Developer                     68\n",
       "Web Developer                 49\n",
       "Senior Developer              28\n",
       "Java Developer                24\n",
       "Senior Software Developer     22\n",
       "Business Analyst              22\n",
       "Junior Software Developer     20\n",
       "Application Developer         20\n",
       "Junior Developer              17\n",
       "Name: careerjunction_za_primary_jobtitle, dtype: int64"
      ]
     },
     "execution_count": 265,
     "metadata": {},
     "output_type": "execute_result"
    }
   ],
   "source": [
    "#df.careerjunction_za_future_jobtitles.value_counts().head(5).plot.bar(title=\"Top 10 Posters\")\n",
    "#10 primary jobs with most recent\n",
    "df['careerjunction_za_primary_jobtitle'].value_counts(ascending=False)[:10]"
   ]
  },
  {
   "cell_type": "code",
   "execution_count": null,
   "metadata": {},
   "outputs": [],
   "source": []
  },
  {
   "cell_type": "markdown",
   "metadata": {},
   "source": [
    "### Content-Based Recommender in Python\n",
    "\n",
    "#### Plot Description Based Recommender\n",
    "\n",
    "In this section, we build a system that recommends job title that are similar to a \n",
    "particular jobs. More specifically, we compute pairwise similarity scores for all jobs\n",
    "based on their plot descriptions and recommend recent job position based on that similarity score\n",
    "\n",
    "The plot description is available as the primary job title feature in the dataset.\n",
    "In its current form, it is not possible to compute the similarity between any jobs\n",
    "\n",
    "We compute Term Frequency-Inverse Document Frequency (TF-IDF) vectors for each document. \n",
    "This will give you a matrix where each column represents a word in the overview vocabulary (all \n",
    "the words that appear in at least one document) and each column represents a movie, as before.\n",
    "\n",
    "In its essence, the TF-IDF score is the frequency of a word occurring in a document, \n",
    "down-weighted by the number of documents in which it occurs. This is done to reduce \n",
    "the importance of words that occur frequently in plot overviews and therefore, \n",
    "their significance in computing the final similarity score.\n",
    "\n",
    "Fortunately, scikit-learn gives you a built-in TfIdfVectorizer class that produces \n",
    "the TF-IDF matrix in a couple of lines."
   ]
  },
  {
   "cell_type": "code",
   "execution_count": 275,
   "metadata": {},
   "outputs": [],
   "source": [
    "#Import TfIdfVectorizer from scikit-learn\n",
    "import sklearn\n",
    "from nltk.corpus import stopwords\n",
    "from sklearn.model_selection import train_test_split\n",
    "from sklearn.feature_extraction.text import TfidfVectorizer\n",
    "from sklearn.metrics.pairwise import cosine_similarity\n",
    "from scipy.sparse.linalg import svds\n",
    "from sklearn.metrics.pairwise import linear_kernel\n",
    "\n",
    "#Define a TF-IDF Vectorizer Object. Remove all english stop words such as 'the', 'a'\n",
    "tfidf = TfidfVectorizer(stop_words='english')\n",
    "\n",
    "#Replace NaN with an empty string\n",
    "df['careerjunction_za_recent_jobtitles'] = df['careerjunction_za_recent_jobtitles'].fillna('')\n",
    "\n",
    "#Construct the required TF-IDF matrix by fitting and transforming the data\n",
    "tfidf_matrix = tfidf.fit_transform(df['careerjunction_za_recent_jobtitles'])\n",
    "\n",
    "#Output the shape of tfidf_matrix\n",
    "tfidf_matrix.shape\n",
    "\n",
    "# Compute the cosine similarity matrix\n",
    "cosine_sim = linear_kernel(tfidf_matrix, tfidf_matrix)\n"
   ]
  },
  {
   "cell_type": "code",
   "execution_count": 276,
   "metadata": {},
   "outputs": [],
   "source": [
    "#Construct a reverse map of indices and movie titles\n",
    "indices = pd.Series(df.index, index=df['careerjunction_za_primary_jobtitle']).drop_duplicates()"
   ]
  },
  {
   "cell_type": "code",
   "execution_count": 278,
   "metadata": {},
   "outputs": [],
   "source": [
    "# Function that takes in job title as input and outputs most similar job title\n",
    "def get_recommendations(title, cosine_sim=cosine_sim):\n",
    "    # Get the index of the jobs that matches the title\n",
    "    idx = indices[title]\n",
    "\n",
    "    # Get the pairwsie similarity scores of all movies with that movie\n",
    "    sim_scores = list(enumerate(cosine_sim[idx]))\n",
    "\n",
    "    # Sort the jobtitle based on the similarity scores\n",
    "    sim_scores = sorted(sim_scores, key=lambda x: x[1], reverse=True)\n",
    "\n",
    "    # Get the scores of the 10 most similar jobs\n",
    "    sim_scores = sim_scores[1:11]\n",
    "\n",
    "    # Get the jobtitle indices\n",
    "    jobtitle_indices = [i[0] for i in sim_scores]\n",
    "\n",
    "    # Return the top 10 most similar jobs title\n",
    "    return df['id'].iloc[jobtitle_indices]"
   ]
  },
  {
   "cell_type": "code",
   "execution_count": 279,
   "metadata": {},
   "outputs": [
    {
     "ename": "TypeError",
     "evalue": "'int' object has no attribute '__getitem__'",
     "output_type": "error",
     "traceback": [
      "\u001b[0;31m----------------------------------------------------------\u001b[0m",
      "\u001b[0;31mTypeError\u001b[0m                Traceback (most recent call last)",
      "\u001b[0;32m<ipython-input-279-2c25aed93639>\u001b[0m in \u001b[0;36m<module>\u001b[0;34m()\u001b[0m\n\u001b[0;32m----> 1\u001b[0;31m \u001b[0mget_recommendations\u001b[0m\u001b[0;34m(\u001b[0m\u001b[0;34m'Software Developer'\u001b[0m\u001b[0;34m,\u001b[0m \u001b[0;36m6\u001b[0m\u001b[0;34m)\u001b[0m\u001b[0;34m\u001b[0m\u001b[0m\n\u001b[0m",
      "\u001b[0;32m<ipython-input-278-49faa0d82804>\u001b[0m in \u001b[0;36mget_recommendations\u001b[0;34m(title, cosine_sim)\u001b[0m\n\u001b[1;32m      5\u001b[0m \u001b[0;34m\u001b[0m\u001b[0m\n\u001b[1;32m      6\u001b[0m     \u001b[0;31m# Get the pairwsie similarity scores of all movies with that movie\u001b[0m\u001b[0;34m\u001b[0m\u001b[0;34m\u001b[0m\u001b[0m\n\u001b[0;32m----> 7\u001b[0;31m     \u001b[0msim_scores\u001b[0m \u001b[0;34m=\u001b[0m \u001b[0mlist\u001b[0m\u001b[0;34m(\u001b[0m\u001b[0menumerate\u001b[0m\u001b[0;34m(\u001b[0m\u001b[0mcosine_sim\u001b[0m\u001b[0;34m[\u001b[0m\u001b[0midx\u001b[0m\u001b[0;34m]\u001b[0m\u001b[0;34m)\u001b[0m\u001b[0;34m)\u001b[0m\u001b[0;34m\u001b[0m\u001b[0m\n\u001b[0m\u001b[1;32m      8\u001b[0m \u001b[0;34m\u001b[0m\u001b[0m\n\u001b[1;32m      9\u001b[0m     \u001b[0;31m# Sort the jobtitle based on the similarity scores\u001b[0m\u001b[0;34m\u001b[0m\u001b[0;34m\u001b[0m\u001b[0m\n",
      "\u001b[0;31mTypeError\u001b[0m: 'int' object has no attribute '__getitem__'"
     ]
    }
   ],
   "source": [
    "get_recommendations('Software Developer', 6)"
   ]
  },
  {
   "cell_type": "code",
   "execution_count": null,
   "metadata": {},
   "outputs": [],
   "source": []
  }
 ],
 "metadata": {
  "kernelspec": {
   "display_name": "Python 3",
   "language": "python",
   "name": "python3"
  },
  "language_info": {
   "codemirror_mode": {
    "name": "ipython",
    "version": 2
   },
   "file_extension": ".py",
   "mimetype": "text/x-python",
   "name": "python",
   "nbconvert_exporter": "python",
   "pygments_lexer": "ipython2",
   "version": "2.7.14"
  }
 },
 "nbformat": 4,
 "nbformat_minor": 2
}
