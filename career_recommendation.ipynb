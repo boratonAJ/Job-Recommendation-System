{
 "cells": [
  {
   "cell_type": "markdown",
   "metadata": {},
   "source": [
    "## Exploring the JSON data\n",
    "\n",
    "The first thing we do is taking a look at the first few lines of the data set."
   ]
  },
  {
   "cell_type": "code",
   "execution_count": 133,
   "metadata": {},
   "outputs": [
    {
     "name": "stdout",
     "output_type": "stream",
     "text": [
      "[\n",
      "  {\n",
      "    \"id\": 1,\n",
      "    \"careerjunction_za_historical_jobtitles\": [\n",
      "      \"Marketer & Technical Liaison\",\n",
      "      \"Quality Assurance Manager Haccp Team Leader\",\n",
      "      \"New Product Developer Technologist\",\n",
      "      \"Food Technologist\",\n",
      "      \"Quality Controller\"\n",
      "    ],\n"
     ]
    }
   ],
   "source": [
    "%%bash\n",
    "# path to the data set\n",
    "head ../NumPy/datasets/data_science_extract.json"
   ]
  },
  {
   "cell_type": "markdown",
   "metadata": {},
   "source": [
    "The above command show that the JSON data is a list of dictionary, and it is well formatted in term of rows and columns. Also, the following are top level key, and they are indented in three spaces. I then further get all of the top level keys by using the grep command to print the lines that have three leading spaces:\n"
   ]
  },
  {
   "cell_type": "code",
   "execution_count": 134,
   "metadata": {},
   "outputs": [],
   "source": [
    "%%bash\n",
    "\n",
    "grep -E '^  {6}' ../NumPy/datasets/data_science_extract.json"
   ]
  },
  {
   "cell_type": "markdown",
   "metadata": {},
   "source": [
    "YOu can see from the data set that the top level keys are in the header. A list of lists appears to be associated with the data set, and this likely contains each record in the job profile dataset. Each inner list is a record, and the first record appears in the output from the grep command.\n",
    "\n",
    "I then print out the full key structure of the JSON file by using grep to print out any lines with 2-6 leading spaces:"
   ]
  },
  {
   "cell_type": "markdown",
   "metadata": {},
   "source": [
    "This shows us the full key structure associated with data_science_extract.json, and tell us which parts of the JSON file are relevant for us."
   ]
  },
  {
   "cell_type": "markdown",
   "metadata": {},
   "source": [
    "## Fuctions for extracting information on the columns\n",
    "\n",
    "Now that we know which key contains information on the columns, we read that information in. \n",
    "We assumed that the JSON file can't fit in memory and we can't just directly read it in using the json library. \n",
    "Instead, we iteratively read it in in a memory-efficient way."
   ]
  },
  {
   "cell_type": "code",
   "execution_count": 135,
   "metadata": {},
   "outputs": [],
   "source": [
    "import json #  json package iteratively parse the json file instead of reading it all in at once\n",
    "import sys\n",
    "import pandas as pd\n",
    "import numpy as np\n",
    "from pandas import DataFrame\n",
    "from IPython.display import Image\n",
    "from pandas.io.json import json_normalize #package for flattening json in pandas df\n",
    "filename = \"../NumPy/datasets/data_science_extract.json\"\n",
    "\n",
    "\n",
    "def js_data(filename):\n",
    "    # open JSON file and parse contents\n",
    "    with open(filename, 'r') as f_in:\n",
    "        objects = json.load(f_in, encoding=\"utf-8\")\n",
    "        columns = objects\n",
    "    return columns\n",
    "\n",
    "\n",
    "# Reformat columns to dictionary with profile id as key\n",
    "def reformat_to_dict(columns):\n",
    "    profiles = {}\n",
    "    for c in columns:\n",
    "        profiles[c['id']] = c \n",
    "    return profiles\n",
    "\n",
    "# Given profile ID\n",
    "def profile_id(columns):\n",
    "    profile_ids = [c['id'] for c in columns]\n",
    "    return profile_ids\n",
    "\n",
    "\n",
    "#https://medium.com/@gis10kwo/converting-nested-json-data-to-csv-using-python-pandas-dc6eddc69175    \n",
    "if __name__ == \"__main__\":\n",
    "    columns = js_data(filename)\n",
    "    profiles = reformat_to_dict(columns)\n",
    "    #print profiles[1]\n",
    "\n",
    "    selected_row = []   \n",
    "    for row in columns:\n",
    "        selected_row.append(row)\n",
    "    column_headers= len(selected_row)\n",
    "    #print column_headers\n",
    "    all_rows = []\n",
    "    for i in selected_row:\n",
    "        all_rows.append(i)\n",
    "    #print all_rows[0:3]\n",
    "\n",
    "\n",
    "\n",
    "# print profile_id(columns)\n",
    "# print \"The length of the column is equal to the total number of profile_id within the dataset {}\".format(len(columns))\n",
    "# msgs =json_normalize(columns)\n",
    "# msgs.dtypes\n",
    "# print selected_row[0]['careerjunction_za_skills']\n",
    "# print selected_row[5]['careerjunction_za_skills']"
   ]
  },
  {
   "cell_type": "markdown",
   "metadata": {},
   "source": []
  },
  {
   "cell_type": "markdown",
   "metadata": {},
   "source": []
  },
  {
   "cell_type": "code",
   "execution_count": 136,
   "metadata": {},
   "outputs": [
    {
     "data": {
      "text/plain": [
       "{u'careerjunction_za_courses': [u'Advanced Diploma In Computer Science'],\n",
       " u'careerjunction_za_primary_jobtitle': u'Database Developer Application Programmer',\n",
       " u'careerjunction_za_recent_jobtitles': [u'Programmer Technician'],\n",
       " u'careerjunction_za_skills': [u'Programming', u'Technical Support'],\n",
       " u'id': 4}"
      ]
     },
     "execution_count": 136,
     "metadata": {},
     "output_type": "execute_result"
    }
   ],
   "source": [
    "def new_source(dict_l):\n",
    "    good_columns = [\"id\",\"careerjunction_za_courses\", \"careerjunction_za_skills\", \n",
    "                \"careerjunction_za_recent_jobtitles\",\"careerjunction_za_primary_jobtitle\"]\n",
    "    n = {}\n",
    "    k = 'id'\n",
    "    for k,v in dict_l.items():\n",
    "        for i in good_columns:\n",
    "            if i==k:\n",
    "                n[k] = v\n",
    "    return n\n",
    "new_source(all_rows[3])"
   ]
  },
  {
   "cell_type": "code",
   "execution_count": null,
   "metadata": {},
   "outputs": [],
   "source": []
  },
  {
   "cell_type": "markdown",
   "metadata": {},
   "source": [
    "#### Extracting all values from all_rows list dictionary \n",
    "\n"
   ]
  },
  {
   "cell_type": "code",
   "execution_count": 137,
   "metadata": {},
   "outputs": [
    {
     "name": "stdout",
     "output_type": "stream",
     "text": [
      "[[u'Marketer & Technical Liaison', u'Quality Assurance Manager Haccp Team Leader', u'New Product Developer Technologist', u'Food Technologist', u'Quality Controller'], Senior Food Technologist, [u'Microbiology', u'microsoft powerpoint', u'microsoft office', u'microsoft excel', u'microsoft project management', u'Microsoft word', u'Outlook', u'Internet explorer', u'Marketing/Sales', u'Quality Control', u'Quality Assurance', u'Research and development', u'Problem solving'], [u'Btech: Food Technology', u'National Diploma: Food Technology', u'Senior Certificate'], [u'Cape Herb & Spice', u'Greys Marine', u'Heinz Foods', u'Swift Silliker', u'Zemcor'], [u'Food Technologist', u'Product Specialist Microbiology'], [u'Food technologist', u'New product development', u'auditor', u'inspections'], 1]\n"
     ]
    }
   ],
   "source": [
    "# extracting and making the list from the all_rows\n",
    "def extract_values(count_lst_id):\n",
    "    return count_lst_id.values()\n",
    "\n",
    "value_lst_count0 = extract_values(all_rows[0])\n",
    "value_lst_count1 = extract_values(all_rows[1])\n",
    "value_lst_count2 = extract_values(all_rows[2])\n",
    "value_lst_count3 = extract_values(all_rows[3])\n",
    "value_lst_count4 = extract_values(all_rows[4])\n",
    "value_lst_count5 = extract_values(all_rows[5])\n",
    "\n",
    "\n",
    "pro_id_5 = value_lst_count5[-1]\n",
    "pro_id_4 = value_lst_count4[-1]\n",
    "pro_id_3 = value_lst_count3[-1]\n",
    "pro_id_2 = value_lst_count2[-1]\n",
    "pro_id_1 = value_lst_count1[-1]\n",
    "pro_id_0 = value_lst_count0[-1]\n",
    "\n",
    "\n",
    "\n",
    "\n",
    "print \"[%s]\" % \", \".join(map(str, value_lst_count0)) \n",
    "\n",
    "def extract_dict_keys(dict_keys):\n",
    "    return map(str,dict_keys.keys())\n",
    "\n",
    "dict_keys = extract_dict_keys(profiles[2]) # remove the u' unicode\n",
    "#print dict_keys\n",
    "#print map(str, dict_keys)\n",
    "\n",
    "\n",
    "\n",
    "def subsequence_counts_2(sequences):\n",
    "    counts = Counter()\n",
    "    for sequence in sequences:\n",
    "        input = \"\".join(sequence)\n",
    "        for j in range(1,len(input)+1):\n",
    "    #this involves copying across the whole contents of counts into the new object.\n",
    "            counts.update(input[i:i+j] for i in range(len(input)-(j-1)))\n",
    "    return counts\n",
    "\n"
   ]
  },
  {
   "cell_type": "markdown",
   "metadata": {},
   "source": [
    "### Finding the similarity\n",
    "\n",
    "Find similar profile to other profile\n",
    "\n",
    "### Dictionary Comparison\n",
    "Here I compare each of the dictionary in the dataset to find the profile similiarity using the profile id to compare to the recent jobtiltle, career skills, course/education list within the dictionary \n",
    "and I then use that to determine the jobtitle similarities.\n",
    "\n",
    "#### A simple approach:\n",
    "\n",
    "I make a new dict with the id's as key; lets call it source\n",
    "the value of each source is is also a dict of the other ids (you are building a matrix); lets call it target\n",
    "fill the count for source id at the target id with a counter of comparisons"
   ]
  },
  {
   "cell_type": "markdown",
   "metadata": {},
   "source": [
    "### Profile Similarity Measure\n",
    "Similarity are measured in the range 0 to 1 [0,1]. When data is dense or continuous, this is the best proximity measure.\n",
    "This project some metrics to find the similarity between job seeker profile. where the profile_ids are points or vectors .\n",
    "We consider Jaccard similarity the profile_ids is the sets. Below show diagram the Sets,Cardinality,Intersection,and Union.\n",
    "\n",
    "![Image of Yaktocat](https://i1.wp.com/dataaspirant.com/wp-content/uploads/2015/04/jaccaard2.png)\n",
    "\n",
    "The Jaccard similarity measures the similarity between finite sample sets and is defined as the cardinality of the intersection of sets divided by the cardinality of the union of the sample sets. Suppose you want to find Jaccard similarity between two sets A and B it is the ration of cardinality of A ∩ B and A ∪ B\n",
    "\n",
    "![Image of Yaktocat](https://i2.wp.com/dataaspirant.com/wp-content/uploads/2015/04/jaccaard3.png)\n",
    "\n",
    "#### Two main consideration about our similarity:\n",
    "\n",
    "* Similarity (intersection) = 1 if X = Y         (Where X, Y are two profiles id)\n",
    "* Similarity (null-intersection) = 0 if X ≠ Y"
   ]
  },
  {
   "cell_type": "code",
   "execution_count": 166,
   "metadata": {},
   "outputs": [],
   "source": [
    "#!/usr/bin/env python\n",
    "\n",
    "from math import*\n",
    "\n",
    "def jaccard_similarity(x,y):\n",
    " \n",
    "    intersection_cardinality = len(set.intersection(*[set(x), set(y)]))\n",
    "    union_cardinality = len(set.union(*[set(x), set(y)]))\n",
    "    return intersection_cardinality/float(union_cardinality)\n",
    " \n",
    "\n",
    "\n",
    "# Function to check profile similiarities \n",
    "from collections import defaultdict\n",
    "\n",
    "class DictionaryIntersection(object):\n",
    "    def __init__(self,dictA,dictB):\n",
    "        self.dictA = dictA\n",
    "        self.dictB = dictB\n",
    "\n",
    "    def __getitem__(self,attr):\n",
    "        if attr not in self.dictA or attr not in self.dictB:\n",
    "            raise KeyError('Not in both dictionaries,key: %s' % attr)\n",
    "        #for c in dictA[attr];\n",
    "         #   if c == 2:\n",
    "          #      return dictA[attr]\n",
    "        return self.dictA[attr],self.dictB[attr]\n",
    "\n",
    "# Getting the profile_ID and element and grouped using the profile ID\n",
    "# Getting the profile_ID and element and grouped using the profile ID\n",
    "# Given profile ID\n",
    "def get_profile__id(id):\n",
    "    prof_id = []\n",
    "    for i in profile_id(columns):\n",
    "        if i == id:\n",
    "            return id\n",
    "\n",
    "def similar(data_a,data_b):\n",
    "    third_dict = {}\n",
    "    for k, v in data_b.iteritems():\n",
    "        vals = []\n",
    "        if isinstance(v, list): # check the nested list in dictionary\n",
    "            for i in v:\n",
    "                #print i\n",
    "                vals.append(data_a.get(i)) # grab all values in dict and add\n",
    "        else:\n",
    "            vals.append(data_a.get(v))\n",
    "            return \"similar\"\n",
    "        if not vals:\n",
    "            return \"not similar\"\n",
    "        third_dict[k] = vals\n",
    "    return third_dict\n",
    "\n",
    "# finding next job title\n",
    "\n",
    "def next_jobtitle(profile):\n",
    "    recent_job = []\n",
    "    for k, val in profile.iteritems():\n",
    "        if k == 'careerjunction_za_future_jobtitles' :\n",
    "            recent_job.append(val)\n",
    "        elif k == '':\n",
    "            return \"no record\"\n",
    "    return recent_job\n",
    "\n",
    "def current_jobtitle(profile):\n",
    "    recent_job = []\n",
    "    for k, val in profile.iteritems():\n",
    "        if k == 'careerjunction_za_primary_jobtitle' :\n",
    "            recent_job.append(val)\n",
    "        elif k == '':\n",
    "            return \"no record\"\n",
    "    return recent_job\n",
    "\n",
    "def course(profile):\n",
    "    recent_job = []\n",
    "    for k, val in profile.iteritems():\n",
    "        if k == 'careerjunction_za_courses' :\n",
    "            recent_job.append(val)\n",
    "        elif k == '':\n",
    "            return \"no course record\"\n",
    "    return recent_job\n",
    "\n",
    "\n",
    "# Compare first profile against second profile\n",
    "# Using the profile ID to check if profile dictionary is 100% identical\n",
    "def compare_profile(profile_id,other_profiles):\n",
    "    # We exempt this in the dictionary\n",
    "    def compare(data_a,data_b):\n",
    "        # type: dictionary\n",
    "        if (type(data_a) is dict):\n",
    "            # is [data_b] a dictionary?\n",
    "            if (type(data_b) != dict):\n",
    "                return False\n",
    "            # iterate over dictionary keys\n",
    "            for dict_key,dict_value in data_a.items():\n",
    "                # check if key exists in [data_b] dictionary, and same value?\n",
    "                if ((dict_key not in data_b) or (not compare(dict_value,data_b[dict_key]))):\n",
    "                    return False\n",
    "            # dictionary identical\n",
    "            return True\n",
    "        # simple value - compare both value and type for equality\n",
    "        return ((data_a == data_b) and (type(data_a) is type(data_b)))\n",
    "    # compare a to b, then b to a\n",
    "    return (compare(profile_id,other_profiles) and compare(other_profiles,profile_id))\n",
    "    \n",
    "def finding_similar(profile_id,profiles):\n",
    "    result = []\n",
    "    for profile in profiles:\n",
    "        bool(compareProfile(profile_id,profiles))\n",
    "        if True:\n",
    "            result.append(profiles[\"id\"])\n",
    "        else:\n",
    "            return \"cannot be found\"\n",
    "    return result\n",
    "\n",
    "#find similar skills in candidate profiles\n",
    "def skill_similar(selected_row1, selected_row2):\n",
    "    get_similar = []\n",
    "    get_not_similar = []\n",
    "    cnt = 0\n",
    "    for i in selected_row1:\n",
    "        if i in selected_row2:\n",
    "            get_similar.append(i)\n",
    "            cnt = +1\n",
    "        elif i not in selected_row2:\n",
    "            get_not_similar.append(i)\n",
    "            cnt = +1\n",
    "        else:\n",
    "            return \n",
    "    return get_similar, get_not_similar\n",
    "\n",
    "# Comparing list in the row of each column\n",
    "def compare_listcomp(row_x, row_y):\n",
    "    print [i for i, j in zip(row_x, row_y) if i == j]\n",
    "#print compare_listcomp(selected_row[3]['careerjunction_za_recent_jobtitles'], selected_row[7]['careerjunction_za_recent_jobtitles'])\n",
    "\n",
    "\n",
    "#find skil or course intersection\n",
    "def compare_intersect(row_x, row_y):\n",
    "    return frozenset(row_x).intersection(row_y)\n",
    "#print compare_intersect(selected_row[3]['careerjunction_za_skills'], selected_row[7]['careerjunction_za_skills'])\n",
    "\n",
    "# Check if profile are not the same and the merge profile.\n",
    "def dict_diff(d1, d2, NO_KEY=''): \n",
    "    set_d1 = set(d1.keys()) \n",
    "    set_d2 = set(d2.keys())\n",
    "    both = set_d1 & set_d2 \n",
    "    diff = {k:(d1[k], d2[k])for k in both if d1[k] != d2[k]}\n",
    "    diff.update({k:(d1[k], NO_KEY) for k in set_d1 - both}) \n",
    "    diff.update({k:(NO_KEY, d2[k]) for k in set_d2 - both}) \n",
    "    return diff\n",
    "\n"
   ]
  },
  {
   "cell_type": "code",
   "execution_count": 168,
   "metadata": {},
   "outputs": [
    {
     "name": "stdout",
     "output_type": "stream",
     "text": [
      "0.375\n",
      "\n",
      "\n",
      "Job seekers profile is not 100% identical: False\n",
      "\n",
      "\n",
      "His/her currnet job title: [u'Senior Developer']\n",
      "\n",
      "\n",
      "We see that profile id 7 is similar to profile 7 jobseeker.\n",
      "Since there is something in common between this profile. The recommender suggests that the next job title is either [[u'Software Architect', u'Python Developer', u'Senior Python Developer']] . Hence, the profile is recommend to him(or her).\n",
      "\n",
      "\n",
      "His/Her next job title can be: [[u'Software Architect', u'Python Developer', u'Senior Python Developer']]\n",
      "\n",
      "\n",
      "His/Her skill set will include: ([], [u'Test Management', u'sas', u'Open Office', u'Microsoft Office', u'Project Management', u'SQL'])\n",
      "\n",
      "\n",
      "His/Her current courses include: [[u'Architecting on AWS (Associate)', u'AWS Technical Essentials', u'National Diploma (Information Technology) - Incomplete', u'Standard Java Specialist Course', u'Fundamentals Of Ms Visual Basic 6', u'Mastering Web Application Development Using Ms Vi6', u'A+', u'Grade 10']]\n"
     ]
    }
   ],
   "source": [
    "print jaccard_similarity([0,1,2,5,6],[0,2,3,5,7,9])\n",
    "print\"\\n\"\n",
    "print('Job seekers profile is not 100% identical: {0}'.format(compare_profile(profiles[1],profiles[2])))\n",
    "print '\\n'\n",
    "print \"His/her currnet job title:\", current_jobtitle(profiles[7])\n",
    "print '\\n'\n",
    "job_seeker_intersect = DictionaryIntersection(profiles[get_profile__id(7)],profiles[get_profile__id(3)])\n",
    "jobseeker = job_seeker_intersect['careerjunction_za_recent_jobtitles']\n",
    "print \"We see that profile id {} is\".format(get_profile__id(7)), similar(profiles[get_profile__id(3)],profiles[get_profile__id(3)]),\"to profile {}\".format(get_profile__id(7)),\"jobseeker.\"\n",
    "print \"Since there is something in common between this profile. The recommender suggests that the next job title is either\", next_jobtitle(profiles[get_profile__id(7)]),\". Hence, the profile is recommend to him(or her).\"\n",
    "print '\\n'\n",
    "print \"His/Her next job title can be:\", next_jobtitle(profiles[get_profile__id(7)])\n",
    "print '\\n'\n",
    "print \"His/Her skill set will include:\", skill_similar(selected_row[7]['careerjunction_za_skills'],selected_row[3]['careerjunction_za_skills'])\n",
    "print '\\n'\n",
    "print \"His/Her current courses include:\", course(profiles[get_profile__id(7)])\n",
    "\n",
    "\n",
    "#print \"Combine profile:\", dict_diff(profiles[3], profiles[7], NO_KEY='Profile ID not found')"
   ]
  },
  {
   "cell_type": "code",
   "execution_count": 140,
   "metadata": {},
   "outputs": [],
   "source": [
    "def extract_recentjob(dict_1, dict_2):\n",
    "    extract = []\n",
    "    for i, v in dict_1.iteritems():\n",
    "        vals = []\n",
    "        if isinstance(v, list):\n",
    "            for i in v:\n",
    "                if i in dict_2 and i =='careerjunction_za_recent_jobtitles':\n",
    "                    vals.append(dict_2.get(i))\n",
    "                else:\n",
    "                    vals.append(dict_2.get(v))\n",
    "                \n",
    "    return vals\n",
    "    \n",
    "#extract_recentjob(profiles[3],profiles[7])    "
   ]
  },
  {
   "cell_type": "code",
   "execution_count": 141,
   "metadata": {},
   "outputs": [
    {
     "data": {
      "text/plain": [
       "[[u'Food technologist',\n",
       "  u'New product development',\n",
       "  u'auditor',\n",
       "  u'inspections']]"
      ]
     },
     "execution_count": 141,
     "metadata": {},
     "output_type": "execute_result"
    }
   ],
   "source": [
    "def next_jobtile(profile):\n",
    "    for k, val in profile.iteritems():\n",
    "        for i in x_keys:\n",
    "            if i == \"careerjunction_za_recent_jobtitles\":\n",
    "                print \"\"\n",
    "                return i\n",
    "            if i == 'careerjunction_za_future_jobtitles':\n",
    "                print \"Your next job are:\", i\n",
    "            if i == 'careerjunction_za_skills':\n",
    "                return i\n",
    "            else:\n",
    "                print\"No profile\"\n",
    "                #recent_job.append(val)\n",
    "    #return recent_job\n",
    "next_jobtitle(profiles[1])"
   ]
  },
  {
   "cell_type": "code",
   "execution_count": 142,
   "metadata": {},
   "outputs": [
    {
     "data": {
      "text/plain": [
       "{u'careerjunction_za_courses': [u'Btech: Food Technology',\n",
       "  u'National Diploma: Food Technology',\n",
       "  u'Senior Certificate'],\n",
       " u'careerjunction_za_employer_names': [u'Cape Herb & Spice',\n",
       "  u'Greys Marine',\n",
       "  u'Heinz Foods',\n",
       "  u'Swift Silliker',\n",
       "  u'Zemcor'],\n",
       " u'careerjunction_za_future_jobtitles': [u'Food technologist',\n",
       "  u'New product development',\n",
       "  u'auditor',\n",
       "  u'inspections'],\n",
       " u'careerjunction_za_historical_jobtitles': [u'Marketer & Technical Liaison',\n",
       "  u'Quality Assurance Manager Haccp Team Leader',\n",
       "  u'New Product Developer Technologist',\n",
       "  u'Food Technologist',\n",
       "  u'Quality Controller'],\n",
       " u'careerjunction_za_primary_jobtitle': u'Senior Food Technologist',\n",
       " u'careerjunction_za_recent_jobtitles': [u'Food Technologist',\n",
       "  u'Product Specialist Microbiology'],\n",
       " u'careerjunction_za_skills': [u'Microbiology',\n",
       "  u'microsoft powerpoint',\n",
       "  u'microsoft office',\n",
       "  u'microsoft excel',\n",
       "  u'microsoft project management',\n",
       "  u'Microsoft word',\n",
       "  u'Outlook',\n",
       "  u'Internet explorer',\n",
       "  u'Marketing/Sales',\n",
       "  u'Quality Control',\n",
       "  u'Quality Assurance',\n",
       "  u'Research and development',\n",
       "  u'Problem solving'],\n",
       " u'id': 1}"
      ]
     },
     "execution_count": 142,
     "metadata": {},
     "output_type": "execute_result"
    }
   ],
   "source": [
    "profiles[1]"
   ]
  },
  {
   "cell_type": "code",
   "execution_count": 143,
   "metadata": {},
   "outputs": [
    {
     "data": {
      "text/plain": [
       "'No profile'"
      ]
     },
     "execution_count": 143,
     "metadata": {},
     "output_type": "execute_result"
    }
   ],
   "source": [
    "def next_jobtitle(profile):\n",
    "    next_job = []\n",
    "    for k, val in profile.iteritems():\n",
    "        if k == 'careerjunction_za_future_jobtitles':\n",
    "            print k\n",
    "            next_job.append(val)\n",
    "        else:\n",
    "            return \"No profile\"\n",
    "    return \"Your next job are:\", next_job\n",
    "next_jobtitle(profiles[1])\n",
    "\n",
    "\n"
   ]
  },
  {
   "cell_type": "code",
   "execution_count": 144,
   "metadata": {},
   "outputs": [],
   "source": [
    "def intersect_dict(dict_a,dict_b): \n",
    "    keys_a = set(dict_a.keys())\n",
    "    keys_b = set(dict_b.keys())\n",
    "    intersection = keys_a & keys_b # '&' operator is used for set intersection\n",
    "    return intersection"
   ]
  }
 ],
 "metadata": {
  "kernelspec": {
   "display_name": "Python 3",
   "language": "python",
   "name": "python3"
  },
  "language_info": {
   "codemirror_mode": {
    "name": "ipython",
    "version": 2
   },
   "file_extension": ".py",
   "mimetype": "text/x-python",
   "name": "python",
   "nbconvert_exporter": "python",
   "pygments_lexer": "ipython2",
   "version": "2.7.14"
  }
 },
 "nbformat": 4,
 "nbformat_minor": 2
}
